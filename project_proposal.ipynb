{
 "cells": [
  {
   "cell_type": "markdown",
   "metadata": {},
   "source": [
    "# TITLE"
   ]
  },
  {
   "cell_type": "markdown",
   "metadata": {},
   "source": [
    "## Introduction\n",
    "\n",
    "* Provide some relevant background information on the topic so that someone unfamiliar with it will be prepared to understand the rest of your proposal\n",
    "* Clearly state the question you will try to answer with your project\n",
    "* Identify and describe the dataset that will be used to answer the question"
   ]
  },
  {
   "cell_type": "markdown",
   "metadata": {},
   "source": [
    "## Preliminary exploratory data analysis\n",
    "\n",
    "* Using only **training data**, summarize the data in at least one table (this is exploratory data analysis). An example of a useful table could be one that reports the number of observations in each class, the means of the predictor variables you plan to use in your analysis and how many rows have missing data. \n",
    "* Using only **training data**, visualize the data with at least one plot relevant to the analysis you plan to do (this is exploratory data analysis). An example of a useful visualization could be one that compares the distributions of each of the predictor variables you plan to use in your analysis."
   ]
  },
  {
   "cell_type": "markdown",
   "metadata": {},
   "source": [
    "## Methods\n",
    "\n",
    "* Explain how you will conduct either your data analysis and which variables/columns you will use. *Note - you do not need to use all variables/columns that exist in the raw data set. In fact, that's often not a good idea. For each variable think: is this a useful variable for prediction?*\n",
    "* Describe at least one way that you will visualize the results"
   ]
  },
  {
   "cell_type": "markdown",
   "metadata": {},
   "source": [
    "## Expected outcomes and significance\n",
    "\n",
    "* What do you expect to find?\n",
    "* What impact could such findings have?\n",
    "* What future questions could this lead to?"
   ]
  },
  {
   "cell_type": "code",
   "execution_count": 42,
   "metadata": {},
   "outputs": [],
   "source": [
    "library(tidyverse)\n",
    "library(tidymodels)\n",
    "library(repr)\n",
    "library(stringi)"
   ]
  },
  {
   "cell_type": "markdown",
   "metadata": {},
   "source": [
    "**Step 1: reading and tidying the data**"
   ]
  },
  {
   "cell_type": "code",
   "execution_count": 46,
   "metadata": {},
   "outputs": [
    {
     "name": "stderr",
     "output_type": "stream",
     "text": [
      "Warning message:\n",
      "“Missing column names filled in: 'X1' [1]”\n",
      "Parsed with column specification:\n",
      "cols(\n",
      "  .default = col_character(),\n",
      "  X1 = \u001b[32mcol_double()\u001b[39m,\n",
      "  `Turned Pro` = \u001b[32mcol_double()\u001b[39m,\n",
      "  Seasons = \u001b[32mcol_double()\u001b[39m,\n",
      "  Titles = \u001b[32mcol_double()\u001b[39m,\n",
      "  `Best Season` = \u001b[32mcol_double()\u001b[39m,\n",
      "  Retired = \u001b[32mcol_double()\u001b[39m,\n",
      "  Masters = \u001b[32mcol_double()\u001b[39m,\n",
      "  `Grand Slams` = \u001b[32mcol_double()\u001b[39m,\n",
      "  `Davis Cups` = \u001b[32mcol_double()\u001b[39m,\n",
      "  `Team Cups` = \u001b[32mcol_double()\u001b[39m,\n",
      "  Olympics = \u001b[32mcol_double()\u001b[39m,\n",
      "  `Weeks at No. 1` = \u001b[32mcol_double()\u001b[39m,\n",
      "  `Tour Finals` = \u001b[32mcol_double()\u001b[39m\n",
      ")\n",
      "\n",
      "See spec(...) for full column specifications.\n",
      "\n",
      "Warning message:\n",
      "“Expected 2 pieces. Additional pieces discarded in 41 rows [3, 5, 6, 20, 21, 53, 58, 66, 89, 119, 129, 141, 142, 152, 155, 165, 188, 193, 205, 212, ...].”\n"
     ]
    },
    {
     "name": "stdout",
     "output_type": "stream",
     "text": [
      "Rows: 495\n",
      "Columns: 34\n",
      "$ age                  \u001b[3m\u001b[90m<int>\u001b[39m\u001b[23m 33, 32, 38, 23, 26, 21, 22, 23, 31, 33, 29, 32, …\n",
      "$ country              \u001b[3m\u001b[90m<chr>\u001b[39m\u001b[23m \"Spain\", \"Serbia\", \"Switzerland\", \"Russian Feder…\n",
      "$ plays                \u001b[3m\u001b[90m<chr>\u001b[39m\u001b[23m \"Left-handed\", \"Right-handed\", \"Right-handed\", \"…\n",
      "$ current_rank         \u001b[3m\u001b[90m<int>\u001b[39m\u001b[23m 1, 2, 3, 4, 5, 6, 7, 8, 9, 10, 11, 12, 13, 14, 1…\n",
      "$ current_rating       \u001b[3m\u001b[90m<dbl>\u001b[39m\u001b[23m 10235, 9720, 6590, 5960, 5890, 5375, 3345, 2870,…\n",
      "$ best_rank            \u001b[3m\u001b[90m<int>\u001b[39m\u001b[23m 1, 1, 1, 4, 4, 5, 3, 8, 9, 6, 7, 9, 13, 11, 3, 1…\n",
      "$ best_rank_date       \u001b[3m\u001b[90m<date>\u001b[39m\u001b[23m 2008-08-18, 2011-07-04, 2004-02-02, 2019-09-09,…\n",
      "$ backhand             \u001b[3m\u001b[90m<chr>\u001b[39m\u001b[23m \"Two-handed\", \"Two-handed\", \"One-handed\", \"Two-h…\n",
      "$ prize_money          \u001b[3m\u001b[90m<dbl>\u001b[39m\u001b[23m 119601561, 139144944, 129231891, 10507693, 22132…\n",
      "$ favorite_surface     \u001b[3m\u001b[90m<chr>\u001b[39m\u001b[23m \"Clay\", \"Fast\", \"Grass\", \"Hard\", \"Clay\", \"Clay\",…\n",
      "$ turned_pro           \u001b[3m\u001b[90m<dbl>\u001b[39m\u001b[23m 2001, 2003, 1998, 2014, 2011, 2016, 2013, 2015, …\n",
      "$ seasons              \u001b[3m\u001b[90m<dbl>\u001b[39m\u001b[23m 19, 17, 22, 5, 10, 4, 8, 3, 11, 17, 10, 16, 5, 8…\n",
      "$ active               \u001b[3m\u001b[90m<fct>\u001b[39m\u001b[23m Yes, Yes, Yes, Yes, Yes, Yes, Yes, Yes, Yes, Yes…\n",
      "$ current_elo_rank     \u001b[3m\u001b[90m<int>\u001b[39m\u001b[23m 1, 2, 3, 5, 6, 8, 13, 17, 16, 24, 14, 29, 18, 25…\n",
      "$ current_elo_rating   \u001b[3m\u001b[90m<dbl>\u001b[39m\u001b[23m 2406, 2390, 2328, 2204, 2188, 2160, 2096, 2075, …\n",
      "$ best_elo_rank        \u001b[3m\u001b[90m<int>\u001b[39m\u001b[23m 1, 1, 1, 4, 5, 8, 5, 13, 9, 7, 8, 14, 16, 18, 5,…\n",
      "$ best_elo_rank_date   \u001b[3m\u001b[90m<date>\u001b[39m\u001b[23m 2008-06-16, 2011-03-21, 2003-08-11, 2019-10-14,…\n",
      "$ peak_elo_rating      \u001b[3m\u001b[90m<int>\u001b[39m\u001b[23m 2552, 2629, 2550, 2243, 2211, 2175, 2231, 2102, …\n",
      "$ peak_elo_rating_date \u001b[3m\u001b[90m<date>\u001b[39m\u001b[23m 2013-09-24, 2016-02-01, 2007-03-05, 2019-10-14,…\n",
      "$ last_appearance      \u001b[3m\u001b[90m<date>\u001b[39m\u001b[23m 2019-11-11, 2019-11-11, 2019-11-11, 2019-11-11,…\n",
      "$ titles               \u001b[3m\u001b[90m<dbl>\u001b[39m\u001b[23m 84, 77, 103, 7, 16, 4, 11, 3, 9, 8, 4, 9, 1, 3, …\n",
      "$ goat_rank            \u001b[3m\u001b[90m<int>\u001b[39m\u001b[23m 3, 2, 1, 109, 58, 139, 65, 245, 151, 83, 119, 15…\n",
      "$ goat_rating          \u001b[3m\u001b[90m<dbl>\u001b[39m\u001b[23m 805, 819, 929, 27, 58, 21, 54, 7, 18, 39, 25, 18…\n",
      "$ best_season          \u001b[3m\u001b[90m<dbl>\u001b[39m\u001b[23m 2010, 2015, 2006, 2019, 2019, 2019, 2018, 2019, …\n",
      "$ retired              \u001b[3m\u001b[90m<dbl>\u001b[39m\u001b[23m NA, NA, NA, NA, NA, NA, NA, NA, NA, NA, NA, NA, …\n",
      "$ masters              \u001b[3m\u001b[90m<dbl>\u001b[39m\u001b[23m 35, 34, 28, 2, 1, NA, 3, NA, NA, NA, NA, 1, NA, …\n",
      "$ grand_slams          \u001b[3m\u001b[90m<dbl>\u001b[39m\u001b[23m 19, 16, 20, NA, NA, NA, NA, NA, NA, NA, NA, NA, …\n",
      "$ davis_cups           \u001b[3m\u001b[90m<dbl>\u001b[39m\u001b[23m 5, 1, 1, NA, NA, NA, NA, NA, 1, NA, NA, NA, NA, …\n",
      "$ team_cups            \u001b[3m\u001b[90m<dbl>\u001b[39m\u001b[23m NA, 1, NA, NA, NA, NA, NA, NA, NA, NA, NA, NA, N…\n",
      "$ olympics             \u001b[3m\u001b[90m<dbl>\u001b[39m\u001b[23m 1, NA, NA, NA, NA, NA, NA, NA, NA, NA, NA, NA, N…\n",
      "$ weeks_at_no._1       \u001b[3m\u001b[90m<dbl>\u001b[39m\u001b[23m 208, 275, 310, NA, NA, NA, NA, NA, NA, NA, NA, N…\n",
      "$ tour_finals          \u001b[3m\u001b[90m<dbl>\u001b[39m\u001b[23m NA, 5, 6, NA, NA, 1, 1, NA, NA, NA, NA, NA, NA, …\n",
      "$ height_cm            \u001b[3m\u001b[90m<dbl>\u001b[39m\u001b[23m 185, 188, 185, NA, 185, NA, 198, NA, 183, 193, 1…\n",
      "$ weight_kg            \u001b[3m\u001b[90m<dbl>\u001b[39m\u001b[23m 85, 77, 85, NA, 82, NA, 86, NA, NA, 80, NA, NA, …\n"
     ]
    }
   ],
   "source": [
    "player_stats <- read_csv(\"player_stats.csv\")\n",
    "\n",
    "names(player_stats) <- gsub(\" \", \"_\", names(player_stats)) %>%\n",
    "                        tolower()\n",
    "player_stats$active[is.na(player_stats$active)] <- \"No\"\n",
    "\n",
    "tidy_player_stats <- player_stats %>%\n",
    "        \n",
    "        separate(age, sep = \" \", into = c(\"age\", \"birthdate\"), convert = TRUE) %>%\n",
    "                        \n",
    "        separate(current_rank, sep = \" \", into = c(\"current_rank\", \"current_rating\"), convert = TRUE) %>%\n",
    "        separate(best_rank, sep = \" \", into = c(\"best_rank\", \"best_rank_date\"), convert = TRUE) %>%\n",
    "                        \n",
    "        separate(favorite_surface, sep = \" \", into = c(\"favorite_surface\", \"favorite_surface_percent\")) %>%\n",
    "        \n",
    "        separate(current_elo_rank, sep = \" \", into = c(\"current_elo_rank\", \"current_elo_rating\"), convert = TRUE) %>% \n",
    "        separate(best_elo_rank, sep = \" \", into = c(\"best_elo_rank\", \"best_elo_rank_date\"), convert = TRUE) %>%\n",
    "\n",
    "        separate(peak_elo_rating, sep = \" \", into = c(\"peak_elo_rating\", \"peak_elo_rating_date\"), convert = TRUE) %>%\n",
    "\n",
    "        separate(goat_rank, sep = \" \", into = c(\"goat_rank\", \"goat_rating\"), convert = TRUE) %>%\n",
    "\n",
    "        mutate(current_rating = parse_number(current_rating), \n",
    "                best_rank_date = str_replace(best_rank_date, \"[(]\", \"\"), best_rank_date = str_replace(best_rank_date, \"[)]\", \"\"), best_rank_date = as.Date(best_rank_date, format = '%d-%m-%Y'),\n",
    "                height_cm = parse_number(height), weight_kg = parse_number(weight), prize_money = parse_number(prize_money), \n",
    "                current_elo_rating = parse_number(current_elo_rating),\n",
    "                best_elo_rank_date = str_replace(best_elo_rank_date, \"[(]\", \"\"), best_elo_rank_date = str_replace(best_elo_rank_date, \"[)]\", \"\"), best_elo_rank_date = as.Date(best_elo_rank_date, format = '%d-%m-%Y'),\n",
    "                peak_elo_rating_date = str_replace(peak_elo_rating_date, \"[(]\", \"\"), peak_elo_rating_date = str_replace(peak_elo_rating_date, \"[)]\", \"\"), peak_elo_rating_date = as.Date(peak_elo_rating_date, format = '%d-%m-%Y'),\n",
    "                last_appearance = as.Date(last_appearance, format = '%d-%m-%Y'),\n",
    "                goat_rating = parse_number(goat_rating),\n",
    "                active = as.factor(active)) %>%\n",
    "                    \n",
    "        select(-x1, -wikipedia, -name, -facebook, -twitter, -nicknames, -birthdate, -coach, -web_site, -height, -weight, -favorite_surface_percent, -birthplace, -residence) %>%\n",
    "                        \n",
    "        arrange(current_rank) %>%\n",
    "        filter(!is.na(current_rank))\n",
    "\n",
    "glimpse(tidy_player_stats)"
   ]
  },
  {
   "cell_type": "markdown",
   "metadata": {},
   "source": [
    "**Step 2: Splitting into training and test data**"
   ]
  },
  {
   "cell_type": "code",
   "execution_count": 41,
   "metadata": {},
   "outputs": [],
   "source": [
    "set.seed(1)\n",
    "\n",
    "stats_split <- initial_split(tidy_player_stats, prop = 0.75, strata = current_rank)\n",
    "stats_training <- training(stats_split)\n",
    "stats_testing <- testing(stats_split)"
   ]
  },
  {
   "cell_type": "code",
   "execution_count": null,
   "metadata": {},
   "outputs": [],
   "source": []
  }
 ],
 "metadata": {
  "kernelspec": {
   "display_name": "R",
   "language": "R",
   "name": "ir"
  },
  "language_info": {
   "codemirror_mode": "r",
   "file_extension": ".r",
   "mimetype": "text/x-r-source",
   "name": "R",
   "pygments_lexer": "r",
   "version": "4.0.0"
  }
 },
 "nbformat": 4,
 "nbformat_minor": 4
}
