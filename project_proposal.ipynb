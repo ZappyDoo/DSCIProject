{
 "cells": [
  {
   "cell_type": "markdown",
   "metadata": {},
   "source": [
    "# TITLE"
   ]
  },
  {
   "cell_type": "markdown",
   "metadata": {},
   "source": [
    "## Introduction\n",
    "\n",
    "* Provide some relevant background information on the topic so that someone unfamiliar with it will be prepared to understand the rest of your proposal\n",
    "* Clearly state the question you will try to answer with your project\n",
    "* Identify and describe the dataset that will be used to answer the question"
   ]
  },
  {
   "cell_type": "markdown",
   "metadata": {},
   "source": [
    "## Preliminary exploratory data analysis\n",
    "\n",
    "* Demonstrate that the dataset can be read from the web into R \n",
    "* Clean and wrangle your data into a tidy format\n",
    "* Using only **training data**, summarize the data in at least one table (this is exploratory data analysis). An example of a useful table could be one that reports the number of observations in each class, the means of the predictor variables you plan to use in your analysis and how many rows have missing data. \n",
    "* Using only **training data**, visualize the data with at least one plot relevant to the analysis you plan to do (this is exploratory data analysis). An example of a useful visualization could be one that compares the distributions of each of the predictor variables you plan to use in your analysis."
   ]
  },
  {
   "cell_type": "markdown",
   "metadata": {},
   "source": [
    "## Methods\n",
    "\n",
    "* Explain how you will conduct either your data analysis and which variables/columns you will use. *Note - you do not need to use all variables/columns that exist in the raw data set. In fact, that's often not a good idea. For each variable think: is this a useful variable for prediction?*\n",
    "* Describe at least one way that you will visualize the results"
   ]
  },
  {
   "cell_type": "markdown",
   "metadata": {},
   "source": [
    "## Expected outcomes and significance\n",
    "\n",
    "* What do you expect to find?\n",
    "* What impact could such findings have?\n",
    "* What future questions could this lead to?"
   ]
  },
  {
   "cell_type": "code",
   "execution_count": 12,
   "metadata": {},
   "outputs": [
    {
     "name": "stderr",
     "output_type": "stream",
     "text": [
      "Warning message:\n",
      "“Missing column names filled in: 'X1' [1]”\n",
      "Parsed with column specification:\n",
      "cols(\n",
      "  .default = col_character(),\n",
      "  X1 = \u001b[32mcol_double()\u001b[39m,\n",
      "  `Turned Pro` = \u001b[32mcol_double()\u001b[39m,\n",
      "  Seasons = \u001b[32mcol_double()\u001b[39m,\n",
      "  Titles = \u001b[32mcol_double()\u001b[39m,\n",
      "  `Best Season` = \u001b[32mcol_double()\u001b[39m,\n",
      "  Retired = \u001b[32mcol_double()\u001b[39m,\n",
      "  Masters = \u001b[32mcol_double()\u001b[39m,\n",
      "  `Grand Slams` = \u001b[32mcol_double()\u001b[39m,\n",
      "  `Davis Cups` = \u001b[32mcol_double()\u001b[39m,\n",
      "  `Team Cups` = \u001b[32mcol_double()\u001b[39m,\n",
      "  Olympics = \u001b[32mcol_double()\u001b[39m,\n",
      "  `Weeks at No. 1` = \u001b[32mcol_double()\u001b[39m,\n",
      "  `Tour Finals` = \u001b[32mcol_double()\u001b[39m\n",
      ")\n",
      "\n",
      "See spec(...) for full column specifications.\n",
      "\n"
     ]
    },
    {
     "data": {
      "text/html": [
       "<table>\n",
       "<caption>A tibble: 6 × 38</caption>\n",
       "<thead>\n",
       "\t<tr><th scope=col>X1</th><th scope=col>Age</th><th scope=col>Country</th><th scope=col>Plays</th><th scope=col>Wikipedia</th><th scope=col>Current_Rank</th><th scope=col>Best_Rank</th><th scope=col>Name</th><th scope=col>Backhand</th><th scope=col>Prize_Money</th><th scope=col>⋯</th><th scope=col>Facebook</th><th scope=col>Twitter</th><th scope=col>Nicknames</th><th scope=col>Grand_Slams</th><th scope=col>Davis_Cups</th><th scope=col>Web_Site</th><th scope=col>Team_Cups</th><th scope=col>Olympics</th><th scope=col>Weeks_at_No._1</th><th scope=col>Tour_Finals</th></tr>\n",
       "\t<tr><th scope=col>&lt;dbl&gt;</th><th scope=col>&lt;chr&gt;</th><th scope=col>&lt;chr&gt;</th><th scope=col>&lt;chr&gt;</th><th scope=col>&lt;chr&gt;</th><th scope=col>&lt;chr&gt;</th><th scope=col>&lt;chr&gt;</th><th scope=col>&lt;chr&gt;</th><th scope=col>&lt;chr&gt;</th><th scope=col>&lt;chr&gt;</th><th scope=col>⋯</th><th scope=col>&lt;chr&gt;</th><th scope=col>&lt;chr&gt;</th><th scope=col>&lt;chr&gt;</th><th scope=col>&lt;dbl&gt;</th><th scope=col>&lt;dbl&gt;</th><th scope=col>&lt;chr&gt;</th><th scope=col>&lt;dbl&gt;</th><th scope=col>&lt;dbl&gt;</th><th scope=col>&lt;dbl&gt;</th><th scope=col>&lt;dbl&gt;</th></tr>\n",
       "</thead>\n",
       "<tbody>\n",
       "\t<tr><td>0</td><td>26 (25-04-1993)</td><td>Brazil            </td><td>Right-handed</td><td>Wikipedia</td><td>378 (97) </td><td>363 (04-11-2019)</td><td>Oscar Jose Gutierrez</td><td>NA        </td><td>NA          </td><td>⋯</td><td>NA</td><td>NA</td><td>NA</td><td>NA</td><td>NA</td><td>NA</td><td>NA</td><td>NA</td><td>NA</td><td>NA</td></tr>\n",
       "\t<tr><td>1</td><td>18 (22-12-2001)</td><td>United Kingdom    </td><td>Left-handed </td><td>Wikipedia</td><td>326 (119)</td><td>316 (14-10-2019)</td><td>Jack Draper         </td><td>Two-handed</td><td>$59,040     </td><td>⋯</td><td>NA</td><td>NA</td><td>NA</td><td>NA</td><td>NA</td><td>NA</td><td>NA</td><td>NA</td><td>NA</td><td>NA</td></tr>\n",
       "\t<tr><td>2</td><td>32 (03-11-1987)</td><td>Slovakia          </td><td>Right-handed</td><td>Wikipedia</td><td>178 (280)</td><td>44 (14-01-2013) </td><td>Lukas Lacko         </td><td>Two-handed</td><td>US$3,261,567</td><td>⋯</td><td>NA</td><td>NA</td><td>NA</td><td>NA</td><td>NA</td><td>NA</td><td>NA</td><td>NA</td><td>NA</td><td>NA</td></tr>\n",
       "\t<tr><td>3</td><td>21 (29-05-1998)</td><td>Korea, Republic of</td><td>Right-handed</td><td>Wikipedia</td><td>236 (199)</td><td>130 (10-04-2017)</td><td>Duck Hee Lee        </td><td>Two-handed</td><td>$374,093    </td><td>⋯</td><td>NA</td><td>NA</td><td>NA</td><td>NA</td><td>NA</td><td>NA</td><td>NA</td><td>NA</td><td>NA</td><td>NA</td></tr>\n",
       "\t<tr><td>4</td><td>27 (21-10-1992)</td><td>Australia         </td><td>Right-handed</td><td>Wikipedia</td><td>183 (273)</td><td>17 (11-01-2016) </td><td>Bernard Tomic       </td><td>Two-handed</td><td>US$6,091,971</td><td>⋯</td><td>NA</td><td>NA</td><td>NA</td><td>NA</td><td>NA</td><td>NA</td><td>NA</td><td>NA</td><td>NA</td><td>NA</td></tr>\n",
       "\t<tr><td>5</td><td>22 (11-02-1997)</td><td>Poland            </td><td>Right-handed</td><td>Wikipedia</td><td>31 (1398)</td><td>31 (20-01-2020) </td><td>Hubert Hurkacz      </td><td>Two-handed</td><td>$1,517,157  </td><td>⋯</td><td>NA</td><td>NA</td><td>NA</td><td>NA</td><td>NA</td><td>NA</td><td>NA</td><td>NA</td><td>NA</td><td>NA</td></tr>\n",
       "</tbody>\n",
       "</table>\n"
      ],
      "text/latex": [
       "A tibble: 6 × 38\n",
       "\\begin{tabular}{lllllllllllllllllllll}\n",
       " X1 & Age & Country & Plays & Wikipedia & Current\\_Rank & Best\\_Rank & Name & Backhand & Prize\\_Money & ⋯ & Facebook & Twitter & Nicknames & Grand\\_Slams & Davis\\_Cups & Web\\_Site & Team\\_Cups & Olympics & Weeks\\_at\\_No.\\_1 & Tour\\_Finals\\\\\n",
       " <dbl> & <chr> & <chr> & <chr> & <chr> & <chr> & <chr> & <chr> & <chr> & <chr> & ⋯ & <chr> & <chr> & <chr> & <dbl> & <dbl> & <chr> & <dbl> & <dbl> & <dbl> & <dbl>\\\\\n",
       "\\hline\n",
       "\t 0 & 26 (25-04-1993) & Brazil             & Right-handed & Wikipedia & 378 (97)  & 363 (04-11-2019) & Oscar Jose Gutierrez & NA         & NA           & ⋯ & NA & NA & NA & NA & NA & NA & NA & NA & NA & NA\\\\\n",
       "\t 1 & 18 (22-12-2001) & United Kingdom     & Left-handed  & Wikipedia & 326 (119) & 316 (14-10-2019) & Jack Draper          & Two-handed & \\$59,040      & ⋯ & NA & NA & NA & NA & NA & NA & NA & NA & NA & NA\\\\\n",
       "\t 2 & 32 (03-11-1987) & Slovakia           & Right-handed & Wikipedia & 178 (280) & 44 (14-01-2013)  & Lukas Lacko          & Two-handed & US\\$3,261,567 & ⋯ & NA & NA & NA & NA & NA & NA & NA & NA & NA & NA\\\\\n",
       "\t 3 & 21 (29-05-1998) & Korea, Republic of & Right-handed & Wikipedia & 236 (199) & 130 (10-04-2017) & Duck Hee Lee         & Two-handed & \\$374,093     & ⋯ & NA & NA & NA & NA & NA & NA & NA & NA & NA & NA\\\\\n",
       "\t 4 & 27 (21-10-1992) & Australia          & Right-handed & Wikipedia & 183 (273) & 17 (11-01-2016)  & Bernard Tomic        & Two-handed & US\\$6,091,971 & ⋯ & NA & NA & NA & NA & NA & NA & NA & NA & NA & NA\\\\\n",
       "\t 5 & 22 (11-02-1997) & Poland             & Right-handed & Wikipedia & 31 (1398) & 31 (20-01-2020)  & Hubert Hurkacz       & Two-handed & \\$1,517,157   & ⋯ & NA & NA & NA & NA & NA & NA & NA & NA & NA & NA\\\\\n",
       "\\end{tabular}\n"
      ],
      "text/markdown": [
       "\n",
       "A tibble: 6 × 38\n",
       "\n",
       "| X1 &lt;dbl&gt; | Age &lt;chr&gt; | Country &lt;chr&gt; | Plays &lt;chr&gt; | Wikipedia &lt;chr&gt; | Current_Rank &lt;chr&gt; | Best_Rank &lt;chr&gt; | Name &lt;chr&gt; | Backhand &lt;chr&gt; | Prize_Money &lt;chr&gt; | ⋯ ⋯ | Facebook &lt;chr&gt; | Twitter &lt;chr&gt; | Nicknames &lt;chr&gt; | Grand_Slams &lt;dbl&gt; | Davis_Cups &lt;dbl&gt; | Web_Site &lt;chr&gt; | Team_Cups &lt;dbl&gt; | Olympics &lt;dbl&gt; | Weeks_at_No._1 &lt;dbl&gt; | Tour_Finals &lt;dbl&gt; |\n",
       "|---|---|---|---|---|---|---|---|---|---|---|---|---|---|---|---|---|---|---|---|---|\n",
       "| 0 | 26 (25-04-1993) | Brazil             | Right-handed | Wikipedia | 378 (97)  | 363 (04-11-2019) | Oscar Jose Gutierrez | NA         | NA           | ⋯ | NA | NA | NA | NA | NA | NA | NA | NA | NA | NA |\n",
       "| 1 | 18 (22-12-2001) | United Kingdom     | Left-handed  | Wikipedia | 326 (119) | 316 (14-10-2019) | Jack Draper          | Two-handed | $59,040      | ⋯ | NA | NA | NA | NA | NA | NA | NA | NA | NA | NA |\n",
       "| 2 | 32 (03-11-1987) | Slovakia           | Right-handed | Wikipedia | 178 (280) | 44 (14-01-2013)  | Lukas Lacko          | Two-handed | US$3,261,567 | ⋯ | NA | NA | NA | NA | NA | NA | NA | NA | NA | NA |\n",
       "| 3 | 21 (29-05-1998) | Korea, Republic of | Right-handed | Wikipedia | 236 (199) | 130 (10-04-2017) | Duck Hee Lee         | Two-handed | $374,093     | ⋯ | NA | NA | NA | NA | NA | NA | NA | NA | NA | NA |\n",
       "| 4 | 27 (21-10-1992) | Australia          | Right-handed | Wikipedia | 183 (273) | 17 (11-01-2016)  | Bernard Tomic        | Two-handed | US$6,091,971 | ⋯ | NA | NA | NA | NA | NA | NA | NA | NA | NA | NA |\n",
       "| 5 | 22 (11-02-1997) | Poland             | Right-handed | Wikipedia | 31 (1398) | 31 (20-01-2020)  | Hubert Hurkacz       | Two-handed | $1,517,157   | ⋯ | NA | NA | NA | NA | NA | NA | NA | NA | NA | NA |\n",
       "\n"
      ],
      "text/plain": [
       "  X1 Age             Country            Plays        Wikipedia Current_Rank\n",
       "1 0  26 (25-04-1993) Brazil             Right-handed Wikipedia 378 (97)    \n",
       "2 1  18 (22-12-2001) United Kingdom     Left-handed  Wikipedia 326 (119)   \n",
       "3 2  32 (03-11-1987) Slovakia           Right-handed Wikipedia 178 (280)   \n",
       "4 3  21 (29-05-1998) Korea, Republic of Right-handed Wikipedia 236 (199)   \n",
       "5 4  27 (21-10-1992) Australia          Right-handed Wikipedia 183 (273)   \n",
       "6 5  22 (11-02-1997) Poland             Right-handed Wikipedia 31 (1398)   \n",
       "  Best_Rank        Name                 Backhand   Prize_Money  ⋯ Facebook\n",
       "1 363 (04-11-2019) Oscar Jose Gutierrez NA         NA           ⋯ NA      \n",
       "2 316 (14-10-2019) Jack Draper          Two-handed $59,040      ⋯ NA      \n",
       "3 44 (14-01-2013)  Lukas Lacko          Two-handed US$3,261,567 ⋯ NA      \n",
       "4 130 (10-04-2017) Duck Hee Lee         Two-handed $374,093     ⋯ NA      \n",
       "5 17 (11-01-2016)  Bernard Tomic        Two-handed US$6,091,971 ⋯ NA      \n",
       "6 31 (20-01-2020)  Hubert Hurkacz       Two-handed $1,517,157   ⋯ NA      \n",
       "  Twitter Nicknames Grand_Slams Davis_Cups Web_Site Team_Cups Olympics\n",
       "1 NA      NA        NA          NA         NA       NA        NA      \n",
       "2 NA      NA        NA          NA         NA       NA        NA      \n",
       "3 NA      NA        NA          NA         NA       NA        NA      \n",
       "4 NA      NA        NA          NA         NA       NA        NA      \n",
       "5 NA      NA        NA          NA         NA       NA        NA      \n",
       "6 NA      NA        NA          NA         NA       NA        NA      \n",
       "  Weeks_at_No._1 Tour_Finals\n",
       "1 NA             NA         \n",
       "2 NA             NA         \n",
       "3 NA             NA         \n",
       "4 NA             NA         \n",
       "5 NA             NA         \n",
       "6 NA             NA         "
      ]
     },
     "metadata": {},
     "output_type": "display_data"
    },
    {
     "data": {
      "text/html": [
       "<table>\n",
       "<caption>A tibble: 6 × 32</caption>\n",
       "<thead>\n",
       "\t<tr><th scope=col>Age</th><th scope=col>Country</th><th scope=col>Plays</th><th scope=col>Current_Rank</th><th scope=col>Best_Rank</th><th scope=col>Backhand</th><th scope=col>Prize_Money</th><th scope=col>Height</th><th scope=col>Favorite_Surface</th><th scope=col>Turned_Pro</th><th scope=col>⋯</th><th scope=col>Residence</th><th scope=col>Weight</th><th scope=col>Coach</th><th scope=col>Grand_Slams</th><th scope=col>Davis_Cups</th><th scope=col>Web_Site</th><th scope=col>Team_Cups</th><th scope=col>Olympics</th><th scope=col>Weeks_at_No._1</th><th scope=col>Tour_Finals</th></tr>\n",
       "\t<tr><th scope=col>&lt;chr&gt;</th><th scope=col>&lt;chr&gt;</th><th scope=col>&lt;chr&gt;</th><th scope=col>&lt;chr&gt;</th><th scope=col>&lt;chr&gt;</th><th scope=col>&lt;chr&gt;</th><th scope=col>&lt;chr&gt;</th><th scope=col>&lt;chr&gt;</th><th scope=col>&lt;chr&gt;</th><th scope=col>&lt;dbl&gt;</th><th scope=col>⋯</th><th scope=col>&lt;chr&gt;</th><th scope=col>&lt;chr&gt;</th><th scope=col>&lt;chr&gt;</th><th scope=col>&lt;dbl&gt;</th><th scope=col>&lt;dbl&gt;</th><th scope=col>&lt;chr&gt;</th><th scope=col>&lt;dbl&gt;</th><th scope=col>&lt;dbl&gt;</th><th scope=col>&lt;dbl&gt;</th><th scope=col>&lt;dbl&gt;</th></tr>\n",
       "</thead>\n",
       "<tbody>\n",
       "\t<tr><td>33 (03-06-1986)</td><td>Spain        </td><td>Left-handed </td><td>1 (10235)</td><td>1 (18-08-2008) </td><td>Two-handed</td><td>US$119,601,561                                  </td><td>185 cm</td><td>Clay 39% </td><td>2001</td><td>⋯</td><td>Manacor, Mallorca, Spain</td><td>85 kg</td><td>Carlos Moya     </td><td>19</td><td> 5</td><td>rafaelnadal.com  </td><td>NA</td><td> 1</td><td>208</td><td>NA</td></tr>\n",
       "\t<tr><td>33 (01-09-1986)</td><td>France       </td><td>Right-handed</td><td>10 (2565)</td><td>6 (07-11-2016) </td><td>Two-handed</td><td>US$ 17,930,816  33rd all-time leader in earnings</td><td>193 cm</td><td>Hard 13% </td><td>2004</td><td>⋯</td><td>Switzerland             </td><td>80 kg</td><td>Mikael Tillstrom</td><td>NA</td><td>NA</td><td>www.lamonf.com   </td><td>NA</td><td>NA</td><td> NA</td><td>NA</td></tr>\n",
       "\t<tr><td>28 (22-07-1991)</td><td>United States</td><td>Right-handed</td><td>100 (573)</td><td>41 (14-01-2019)</td><td>Two-handed</td><td>$2,109,288                                      </td><td>NA    </td><td>Grass 29%</td><td>2011</td><td>⋯</td><td>NA                      </td><td>NA   </td><td>NA              </td><td>NA</td><td>NA</td><td>NA               </td><td>NA</td><td>NA</td><td> NA</td><td>NA</td></tr>\n",
       "\t<tr><td>32 (15-05-1987)</td><td>Argentina    </td><td>Right-handed</td><td>101 (564)</td><td>21 (22-06-2015)</td><td>One-handed</td><td>US$6,492,427                                    </td><td>188 cm</td><td>Clay 19% </td><td>2003</td><td>⋯</td><td>NA                      </td><td>NA   </td><td>NA              </td><td>NA</td><td> 1</td><td>leonardomayer.net</td><td>NA</td><td>NA</td><td> NA</td><td>NA</td></tr>\n",
       "\t<tr><td>27 (31-03-1992)</td><td>Switzerland  </td><td>Right-handed</td><td>102 (550)</td><td>93 (07-08-2017)</td><td>Two-handed</td><td>$1,219,810                                      </td><td>NA    </td><td>None 4%  </td><td>2009</td><td>⋯</td><td>NA                      </td><td>NA   </td><td>NA              </td><td>NA</td><td>NA</td><td>NA               </td><td>NA</td><td>NA</td><td> NA</td><td>NA</td></tr>\n",
       "\t<tr><td>24 (04-07-1995)</td><td>Canada       </td><td>Right-handed</td><td>103 (534)</td><td>92 (19-08-2019)</td><td>Two-handed</td><td>US$414,637                                      </td><td>NA    </td><td>Hard 100%</td><td>2016</td><td>⋯</td><td>NA                      </td><td>NA   </td><td>NA              </td><td>NA</td><td>NA</td><td>NA               </td><td>NA</td><td>NA</td><td> NA</td><td>NA</td></tr>\n",
       "</tbody>\n",
       "</table>\n"
      ],
      "text/latex": [
       "A tibble: 6 × 32\n",
       "\\begin{tabular}{lllllllllllllllllllll}\n",
       " Age & Country & Plays & Current\\_Rank & Best\\_Rank & Backhand & Prize\\_Money & Height & Favorite\\_Surface & Turned\\_Pro & ⋯ & Residence & Weight & Coach & Grand\\_Slams & Davis\\_Cups & Web\\_Site & Team\\_Cups & Olympics & Weeks\\_at\\_No.\\_1 & Tour\\_Finals\\\\\n",
       " <chr> & <chr> & <chr> & <chr> & <chr> & <chr> & <chr> & <chr> & <chr> & <dbl> & ⋯ & <chr> & <chr> & <chr> & <dbl> & <dbl> & <chr> & <dbl> & <dbl> & <dbl> & <dbl>\\\\\n",
       "\\hline\n",
       "\t 33 (03-06-1986) & Spain         & Left-handed  & 1 (10235) & 1 (18-08-2008)  & Two-handed & US\\$119,601,561                                   & 185 cm & Clay 39\\%  & 2001 & ⋯ & Manacor, Mallorca, Spain & 85 kg & Carlos Moya      & 19 &  5 & rafaelnadal.com   & NA &  1 & 208 & NA\\\\\n",
       "\t 33 (01-09-1986) & France        & Right-handed & 10 (2565) & 6 (07-11-2016)  & Two-handed & US\\$ 17,930,816  33rd all-time leader in earnings & 193 cm & Hard 13\\%  & 2004 & ⋯ & Switzerland              & 80 kg & Mikael Tillstrom & NA & NA & www.lamonf.com    & NA & NA &  NA & NA\\\\\n",
       "\t 28 (22-07-1991) & United States & Right-handed & 100 (573) & 41 (14-01-2019) & Two-handed & \\$2,109,288                                       & NA     & Grass 29\\% & 2011 & ⋯ & NA                       & NA    & NA               & NA & NA & NA                & NA & NA &  NA & NA\\\\\n",
       "\t 32 (15-05-1987) & Argentina     & Right-handed & 101 (564) & 21 (22-06-2015) & One-handed & US\\$6,492,427                                     & 188 cm & Clay 19\\%  & 2003 & ⋯ & NA                       & NA    & NA               & NA &  1 & leonardomayer.net & NA & NA &  NA & NA\\\\\n",
       "\t 27 (31-03-1992) & Switzerland   & Right-handed & 102 (550) & 93 (07-08-2017) & Two-handed & \\$1,219,810                                       & NA     & None 4\\%   & 2009 & ⋯ & NA                       & NA    & NA               & NA & NA & NA                & NA & NA &  NA & NA\\\\\n",
       "\t 24 (04-07-1995) & Canada        & Right-handed & 103 (534) & 92 (19-08-2019) & Two-handed & US\\$414,637                                       & NA     & Hard 100\\% & 2016 & ⋯ & NA                       & NA    & NA               & NA & NA & NA                & NA & NA &  NA & NA\\\\\n",
       "\\end{tabular}\n"
      ],
      "text/markdown": [
       "\n",
       "A tibble: 6 × 32\n",
       "\n",
       "| Age &lt;chr&gt; | Country &lt;chr&gt; | Plays &lt;chr&gt; | Current_Rank &lt;chr&gt; | Best_Rank &lt;chr&gt; | Backhand &lt;chr&gt; | Prize_Money &lt;chr&gt; | Height &lt;chr&gt; | Favorite_Surface &lt;chr&gt; | Turned_Pro &lt;dbl&gt; | ⋯ ⋯ | Residence &lt;chr&gt; | Weight &lt;chr&gt; | Coach &lt;chr&gt; | Grand_Slams &lt;dbl&gt; | Davis_Cups &lt;dbl&gt; | Web_Site &lt;chr&gt; | Team_Cups &lt;dbl&gt; | Olympics &lt;dbl&gt; | Weeks_at_No._1 &lt;dbl&gt; | Tour_Finals &lt;dbl&gt; |\n",
       "|---|---|---|---|---|---|---|---|---|---|---|---|---|---|---|---|---|---|---|---|---|\n",
       "| 33 (03-06-1986) | Spain         | Left-handed  | 1 (10235) | 1 (18-08-2008)  | Two-handed | US$119,601,561                                   | 185 cm | Clay 39%  | 2001 | ⋯ | Manacor, Mallorca, Spain | 85 kg | Carlos Moya      | 19 |  5 | rafaelnadal.com   | NA |  1 | 208 | NA |\n",
       "| 33 (01-09-1986) | France        | Right-handed | 10 (2565) | 6 (07-11-2016)  | Two-handed | US$ 17,930,816  33rd all-time leader in earnings | 193 cm | Hard 13%  | 2004 | ⋯ | Switzerland              | 80 kg | Mikael Tillstrom | NA | NA | www.lamonf.com    | NA | NA |  NA | NA |\n",
       "| 28 (22-07-1991) | United States | Right-handed | 100 (573) | 41 (14-01-2019) | Two-handed | $2,109,288                                       | NA     | Grass 29% | 2011 | ⋯ | NA                       | NA    | NA               | NA | NA | NA                | NA | NA |  NA | NA |\n",
       "| 32 (15-05-1987) | Argentina     | Right-handed | 101 (564) | 21 (22-06-2015) | One-handed | US$6,492,427                                     | 188 cm | Clay 19%  | 2003 | ⋯ | NA                       | NA    | NA               | NA |  1 | leonardomayer.net | NA | NA |  NA | NA |\n",
       "| 27 (31-03-1992) | Switzerland   | Right-handed | 102 (550) | 93 (07-08-2017) | Two-handed | $1,219,810                                       | NA     | None 4%   | 2009 | ⋯ | NA                       | NA    | NA               | NA | NA | NA                | NA | NA |  NA | NA |\n",
       "| 24 (04-07-1995) | Canada        | Right-handed | 103 (534) | 92 (19-08-2019) | Two-handed | US$414,637                                       | NA     | Hard 100% | 2016 | ⋯ | NA                       | NA    | NA               | NA | NA | NA                | NA | NA |  NA | NA |\n",
       "\n"
      ],
      "text/plain": [
       "  Age             Country       Plays        Current_Rank Best_Rank      \n",
       "1 33 (03-06-1986) Spain         Left-handed  1 (10235)    1 (18-08-2008) \n",
       "2 33 (01-09-1986) France        Right-handed 10 (2565)    6 (07-11-2016) \n",
       "3 28 (22-07-1991) United States Right-handed 100 (573)    41 (14-01-2019)\n",
       "4 32 (15-05-1987) Argentina     Right-handed 101 (564)    21 (22-06-2015)\n",
       "5 27 (31-03-1992) Switzerland   Right-handed 102 (550)    93 (07-08-2017)\n",
       "6 24 (04-07-1995) Canada        Right-handed 103 (534)    92 (19-08-2019)\n",
       "  Backhand   Prize_Money                                      Height\n",
       "1 Two-handed US$119,601,561                                   185 cm\n",
       "2 Two-handed US$ 17,930,816  33rd all-time leader in earnings 193 cm\n",
       "3 Two-handed $2,109,288                                       NA    \n",
       "4 One-handed US$6,492,427                                     188 cm\n",
       "5 Two-handed $1,219,810                                       NA    \n",
       "6 Two-handed US$414,637                                       NA    \n",
       "  Favorite_Surface Turned_Pro ⋯ Residence                Weight\n",
       "1 Clay 39%         2001       ⋯ Manacor, Mallorca, Spain 85 kg \n",
       "2 Hard 13%         2004       ⋯ Switzerland              80 kg \n",
       "3 Grass 29%        2011       ⋯ NA                       NA    \n",
       "4 Clay 19%         2003       ⋯ NA                       NA    \n",
       "5 None 4%          2009       ⋯ NA                       NA    \n",
       "6 Hard 100%        2016       ⋯ NA                       NA    \n",
       "  Coach            Grand_Slams Davis_Cups Web_Site          Team_Cups Olympics\n",
       "1 Carlos Moya      19           5         rafaelnadal.com   NA         1      \n",
       "2 Mikael Tillstrom NA          NA         www.lamonf.com    NA        NA      \n",
       "3 NA               NA          NA         NA                NA        NA      \n",
       "4 NA               NA           1         leonardomayer.net NA        NA      \n",
       "5 NA               NA          NA         NA                NA        NA      \n",
       "6 NA               NA          NA         NA                NA        NA      \n",
       "  Weeks_at_No._1 Tour_Finals\n",
       "1 208            NA         \n",
       "2  NA            NA         \n",
       "3  NA            NA         \n",
       "4  NA            NA         \n",
       "5  NA            NA         \n",
       "6  NA            NA         "
      ]
     },
     "metadata": {},
     "output_type": "display_data"
    }
   ],
   "source": [
    "library(tidyverse)\n",
    "\n",
    "player_stats <- read_csv(\"player_stats.csv\")\n",
    "\n",
    "names(player_stats) <- gsub(\" \", \"_\", names(player_stats))\n",
    "head(player_stats)\n",
    "\n",
    "clean_player_stats <- player_stats %>%\n",
    "                       select(-X1, -Wikipedia, -Name, -Facebook, -Twitter, -Nicknames) %>%\n",
    "                       arrange(Current_Rank)\n",
    "head(clean_player_stats)"
   ]
  },
  {
   "cell_type": "code",
   "execution_count": null,
   "metadata": {},
   "outputs": [],
   "source": []
  }
 ],
 "metadata": {
  "kernelspec": {
   "display_name": "R",
   "language": "R",
   "name": "ir"
  },
  "language_info": {
   "codemirror_mode": "r",
   "file_extension": ".r",
   "mimetype": "text/x-r-source",
   "name": "R",
   "pygments_lexer": "r",
   "version": "4.0.0"
  }
 },
 "nbformat": 4,
 "nbformat_minor": 4
}
