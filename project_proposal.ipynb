{
 "cells": [
  {
   "cell_type": "markdown",
   "metadata": {},
   "source": [
    "# TITLE"
   ]
  },
  {
   "cell_type": "markdown",
   "metadata": {},
   "source": [
    "## Introduction\n",
    "\n",
    "* Provide some relevant background information on the topic so that someone unfamiliar with it will be prepared to understand the rest of your proposal\n",
    "* Clearly state the question you will try to answer with your project\n",
    "* Identify and describe the dataset that will be used to answer the question"
   ]
  },
  {
   "cell_type": "markdown",
   "metadata": {},
   "source": [
    "## Preliminary exploratory data analysis\n",
    "\n",
    "* Demonstrate that the dataset can be read from the web into R \n",
    "* Clean and wrangle your data into a tidy format\n",
    "* Using only **training data**, summarize the data in at least one table (this is exploratory data analysis). An example of a useful table could be one that reports the number of observations in each class, the means of the predictor variables you plan to use in your analysis and how many rows have missing data. \n",
    "* Using only **training data**, visualize the data with at least one plot relevant to the analysis you plan to do (this is exploratory data analysis). An example of a useful visualization could be one that compares the distributions of each of the predictor variables you plan to use in your analysis."
   ]
  },
  {
   "cell_type": "markdown",
   "metadata": {},
   "source": [
    "## Methods\n",
    "\n",
    "* Explain how you will conduct either your data analysis and which variables/columns you will use. *Note - you do not need to use all variables/columns that exist in the raw data set. In fact, that's often not a good idea. For each variable think: is this a useful variable for prediction?*\n",
    "* Describe at least one way that you will visualize the results"
   ]
  },
  {
   "cell_type": "markdown",
   "metadata": {},
   "source": [
    "## Expected outcomes and significance\n",
    "\n",
    "* What do you expect to find?\n",
    "* What impact could such findings have?\n",
    "* What future questions could this lead to?"
   ]
  },
  {
   "cell_type": "code",
   "execution_count": 33,
   "metadata": {},
   "outputs": [
    {
     "name": "stderr",
     "output_type": "stream",
     "text": [
      "Warning message:\n",
      "“package ‘tidymodels’ was built under R version 4.0.2”\n",
      "── \u001b[1mAttaching packages\u001b[22m ────────────────────────────────────── tidymodels 0.1.1 ──\n",
      "\n",
      "\u001b[32m✔\u001b[39m \u001b[34mbroom    \u001b[39m 0.7.0      \u001b[32m✔\u001b[39m \u001b[34mrecipes  \u001b[39m 0.1.13\n",
      "\u001b[32m✔\u001b[39m \u001b[34mdials    \u001b[39m 0.0.9      \u001b[32m✔\u001b[39m \u001b[34mrsample  \u001b[39m 0.0.7 \n",
      "\u001b[32m✔\u001b[39m \u001b[34minfer    \u001b[39m 0.5.4      \u001b[32m✔\u001b[39m \u001b[34mtune     \u001b[39m 0.1.1 \n",
      "\u001b[32m✔\u001b[39m \u001b[34mmodeldata\u001b[39m 0.0.2      \u001b[32m✔\u001b[39m \u001b[34mworkflows\u001b[39m 0.2.0 \n",
      "\u001b[32m✔\u001b[39m \u001b[34mparsnip  \u001b[39m 0.1.3      \u001b[32m✔\u001b[39m \u001b[34myardstick\u001b[39m 0.0.7 \n",
      "\n",
      "Warning message:\n",
      "“package ‘broom’ was built under R version 4.0.2”\n",
      "Warning message:\n",
      "“package ‘dials’ was built under R version 4.0.2”\n",
      "Warning message:\n",
      "“package ‘infer’ was built under R version 4.0.3”\n",
      "Warning message:\n",
      "“package ‘modeldata’ was built under R version 4.0.1”\n",
      "Warning message:\n",
      "“package ‘parsnip’ was built under R version 4.0.2”\n",
      "Warning message:\n",
      "“package ‘recipes’ was built under R version 4.0.1”\n",
      "Warning message:\n",
      "“package ‘tune’ was built under R version 4.0.2”\n",
      "Warning message:\n",
      "“package ‘workflows’ was built under R version 4.0.2”\n",
      "Warning message:\n",
      "“package ‘yardstick’ was built under R version 4.0.2”\n",
      "── \u001b[1mConflicts\u001b[22m ───────────────────────────────────────── tidymodels_conflicts() ──\n",
      "\u001b[31m✖\u001b[39m \u001b[34mscales\u001b[39m::\u001b[32mdiscard()\u001b[39m masks \u001b[34mpurrr\u001b[39m::discard()\n",
      "\u001b[31m✖\u001b[39m \u001b[34mdplyr\u001b[39m::\u001b[32mfilter()\u001b[39m   masks \u001b[34mstats\u001b[39m::filter()\n",
      "\u001b[31m✖\u001b[39m \u001b[34mrecipes\u001b[39m::\u001b[32mfixed()\u001b[39m  masks \u001b[34mstringr\u001b[39m::fixed()\n",
      "\u001b[31m✖\u001b[39m \u001b[34mdplyr\u001b[39m::\u001b[32mlag()\u001b[39m      masks \u001b[34mstats\u001b[39m::lag()\n",
      "\u001b[31m✖\u001b[39m \u001b[34myardstick\u001b[39m::\u001b[32mspec()\u001b[39m masks \u001b[34mreadr\u001b[39m::spec()\n",
      "\u001b[31m✖\u001b[39m \u001b[34mrecipes\u001b[39m::\u001b[32mstep()\u001b[39m   masks \u001b[34mstats\u001b[39m::step()\n",
      "\n"
     ]
    }
   ],
   "source": [
    "library(tidyverse)\n",
    "library(tidymodels)\n",
    "library(repr)"
   ]
  },
  {
   "cell_type": "markdown",
   "metadata": {},
   "source": [
    "**Step 1: tidying the data**"
   ]
  },
  {
   "cell_type": "code",
   "execution_count": 41,
   "metadata": {},
   "outputs": [
    {
     "name": "stderr",
     "output_type": "stream",
     "text": [
      "Warning message:\n",
      "“Missing column names filled in: 'X1' [1]”\n",
      "Parsed with column specification:\n",
      "cols(\n",
      "  .default = col_character(),\n",
      "  X1 = \u001b[32mcol_double()\u001b[39m,\n",
      "  `Turned Pro` = \u001b[32mcol_double()\u001b[39m,\n",
      "  Seasons = \u001b[32mcol_double()\u001b[39m,\n",
      "  Titles = \u001b[32mcol_double()\u001b[39m,\n",
      "  `Best Season` = \u001b[32mcol_double()\u001b[39m,\n",
      "  Retired = \u001b[32mcol_double()\u001b[39m,\n",
      "  Masters = \u001b[32mcol_double()\u001b[39m,\n",
      "  `Grand Slams` = \u001b[32mcol_double()\u001b[39m,\n",
      "  `Davis Cups` = \u001b[32mcol_double()\u001b[39m,\n",
      "  `Team Cups` = \u001b[32mcol_double()\u001b[39m,\n",
      "  Olympics = \u001b[32mcol_double()\u001b[39m,\n",
      "  `Weeks at No. 1` = \u001b[32mcol_double()\u001b[39m,\n",
      "  `Tour Finals` = \u001b[32mcol_double()\u001b[39m\n",
      ")\n",
      "\n",
      "See spec(...) for full column specifications.\n",
      "\n"
     ]
    },
    {
     "data": {
      "text/html": [
       "<table>\n",
       "<caption>A tibble: 6 × 32</caption>\n",
       "<thead>\n",
       "\t<tr><th scope=col>age</th><th scope=col>country</th><th scope=col>plays</th><th scope=col>current_rank</th><th scope=col>current_rank_2</th><th scope=col>best_rank</th><th scope=col>best_rank_year</th><th scope=col>backhand</th><th scope=col>prize_money</th><th scope=col>height</th><th scope=col>⋯</th><th scope=col>masters</th><th scope=col>birthplace</th><th scope=col>residence</th><th scope=col>weight</th><th scope=col>grand_slams</th><th scope=col>davis_cups</th><th scope=col>team_cups</th><th scope=col>olympics</th><th scope=col>weeks_at_no._1</th><th scope=col>tour_finals</th></tr>\n",
       "\t<tr><th scope=col>&lt;int&gt;</th><th scope=col>&lt;chr&gt;</th><th scope=col>&lt;chr&gt;</th><th scope=col>&lt;int&gt;</th><th scope=col>&lt;dbl&gt;</th><th scope=col>&lt;int&gt;</th><th scope=col>&lt;dbl&gt;</th><th scope=col>&lt;chr&gt;</th><th scope=col>&lt;chr&gt;</th><th scope=col>&lt;chr&gt;</th><th scope=col>⋯</th><th scope=col>&lt;dbl&gt;</th><th scope=col>&lt;chr&gt;</th><th scope=col>&lt;chr&gt;</th><th scope=col>&lt;chr&gt;</th><th scope=col>&lt;dbl&gt;</th><th scope=col>&lt;dbl&gt;</th><th scope=col>&lt;dbl&gt;</th><th scope=col>&lt;dbl&gt;</th><th scope=col>&lt;dbl&gt;</th><th scope=col>&lt;dbl&gt;</th></tr>\n",
       "</thead>\n",
       "<tbody>\n",
       "\t<tr><td>33</td><td>Spain             </td><td>Left-handed </td><td>1</td><td>10235</td><td>1</td><td>2008</td><td>Two-handed</td><td>US$119,601,561                               </td><td>185 cm</td><td>⋯</td><td>35</td><td>Manacor, Mallorca, Spain</td><td>Manacor, Mallorca, Spain</td><td>85 kg</td><td>19</td><td> 5</td><td>NA</td><td> 1</td><td>208</td><td>NA</td></tr>\n",
       "\t<tr><td>32</td><td>Serbia            </td><td>Right-handed</td><td>2</td><td> 9720</td><td>1</td><td>2011</td><td>Two-handed</td><td>US$ 139,144,944 All-time leader in earnings  </td><td>188 cm</td><td>⋯</td><td>34</td><td>Belgrade, Serbia        </td><td>Monte Carlo, Monaco     </td><td>77 kg</td><td>16</td><td> 1</td><td> 1</td><td>NA</td><td>275</td><td> 5</td></tr>\n",
       "\t<tr><td>38</td><td>Switzerland       </td><td>Right-handed</td><td>3</td><td> 6590</td><td>1</td><td>2004</td><td>One-handed</td><td>$ 129,231,891 2nd all-time leader in earnings</td><td>185 cm</td><td>⋯</td><td>28</td><td>Basel, Switzerland      </td><td>Bottmingen, Switzerland </td><td>85 kg</td><td>20</td><td> 1</td><td>NA</td><td>NA</td><td>310</td><td> 6</td></tr>\n",
       "\t<tr><td>23</td><td>Russian Federation</td><td>Right-handed</td><td>4</td><td> 5960</td><td>4</td><td>2019</td><td>Two-handed</td><td>US$ 10,507,693                               </td><td>NA    </td><td>⋯</td><td> 2</td><td>NA                      </td><td>NA                      </td><td>NA   </td><td>NA</td><td>NA</td><td>NA</td><td>NA</td><td> NA</td><td>NA</td></tr>\n",
       "\t<tr><td>26</td><td>Austria           </td><td>Right-handed</td><td>5</td><td> 5890</td><td>4</td><td>2017</td><td>One-handed</td><td>$22,132,368 15th all-time leader in earnings </td><td>185 cm</td><td>⋯</td><td> 1</td><td>Wiener Neustadt, Austria</td><td>Lichtenworth, Austria   </td><td>82 kg</td><td>NA</td><td>NA</td><td>NA</td><td>NA</td><td> NA</td><td>NA</td></tr>\n",
       "\t<tr><td>21</td><td>Greece            </td><td>Right-handed</td><td>6</td><td> 5375</td><td>5</td><td>2019</td><td>One-handed</td><td>$10,425,605                                  </td><td>NA    </td><td>⋯</td><td>NA</td><td>NA                      </td><td>NA                      </td><td>NA   </td><td>NA</td><td>NA</td><td>NA</td><td>NA</td><td> NA</td><td> 1</td></tr>\n",
       "</tbody>\n",
       "</table>\n"
      ],
      "text/latex": [
       "A tibble: 6 × 32\n",
       "\\begin{tabular}{lllllllllllllllllllll}\n",
       " age & country & plays & current\\_rank & current\\_rank\\_2 & best\\_rank & best\\_rank\\_year & backhand & prize\\_money & height & ⋯ & masters & birthplace & residence & weight & grand\\_slams & davis\\_cups & team\\_cups & olympics & weeks\\_at\\_no.\\_1 & tour\\_finals\\\\\n",
       " <int> & <chr> & <chr> & <int> & <dbl> & <int> & <dbl> & <chr> & <chr> & <chr> & ⋯ & <dbl> & <chr> & <chr> & <chr> & <dbl> & <dbl> & <dbl> & <dbl> & <dbl> & <dbl>\\\\\n",
       "\\hline\n",
       "\t 33 & Spain              & Left-handed  & 1 & 10235 & 1 & 2008 & Two-handed & US\\$119,601,561                                & 185 cm & ⋯ & 35 & Manacor, Mallorca, Spain & Manacor, Mallorca, Spain & 85 kg & 19 &  5 & NA &  1 & 208 & NA\\\\\n",
       "\t 32 & Serbia             & Right-handed & 2 &  9720 & 1 & 2011 & Two-handed & US\\$ 139,144,944 All-time leader in earnings   & 188 cm & ⋯ & 34 & Belgrade, Serbia         & Monte Carlo, Monaco      & 77 kg & 16 &  1 &  1 & NA & 275 &  5\\\\\n",
       "\t 38 & Switzerland        & Right-handed & 3 &  6590 & 1 & 2004 & One-handed & \\$ 129,231,891 2nd all-time leader in earnings & 185 cm & ⋯ & 28 & Basel, Switzerland       & Bottmingen, Switzerland  & 85 kg & 20 &  1 & NA & NA & 310 &  6\\\\\n",
       "\t 23 & Russian Federation & Right-handed & 4 &  5960 & 4 & 2019 & Two-handed & US\\$ 10,507,693                                & NA     & ⋯ &  2 & NA                       & NA                       & NA    & NA & NA & NA & NA &  NA & NA\\\\\n",
       "\t 26 & Austria            & Right-handed & 5 &  5890 & 4 & 2017 & One-handed & \\$22,132,368 15th all-time leader in earnings  & 185 cm & ⋯ &  1 & Wiener Neustadt, Austria & Lichtenworth, Austria    & 82 kg & NA & NA & NA & NA &  NA & NA\\\\\n",
       "\t 21 & Greece             & Right-handed & 6 &  5375 & 5 & 2019 & One-handed & \\$10,425,605                                   & NA     & ⋯ & NA & NA                       & NA                       & NA    & NA & NA & NA & NA &  NA &  1\\\\\n",
       "\\end{tabular}\n"
      ],
      "text/markdown": [
       "\n",
       "A tibble: 6 × 32\n",
       "\n",
       "| age &lt;int&gt; | country &lt;chr&gt; | plays &lt;chr&gt; | current_rank &lt;int&gt; | current_rank_2 &lt;dbl&gt; | best_rank &lt;int&gt; | best_rank_year &lt;dbl&gt; | backhand &lt;chr&gt; | prize_money &lt;chr&gt; | height &lt;chr&gt; | ⋯ ⋯ | masters &lt;dbl&gt; | birthplace &lt;chr&gt; | residence &lt;chr&gt; | weight &lt;chr&gt; | grand_slams &lt;dbl&gt; | davis_cups &lt;dbl&gt; | team_cups &lt;dbl&gt; | olympics &lt;dbl&gt; | weeks_at_no._1 &lt;dbl&gt; | tour_finals &lt;dbl&gt; |\n",
       "|---|---|---|---|---|---|---|---|---|---|---|---|---|---|---|---|---|---|---|---|---|\n",
       "| 33 | Spain              | Left-handed  | 1 | 10235 | 1 | 2008 | Two-handed | US$119,601,561                                | 185 cm | ⋯ | 35 | Manacor, Mallorca, Spain | Manacor, Mallorca, Spain | 85 kg | 19 |  5 | NA |  1 | 208 | NA |\n",
       "| 32 | Serbia             | Right-handed | 2 |  9720 | 1 | 2011 | Two-handed | US$ 139,144,944 All-time leader in earnings   | 188 cm | ⋯ | 34 | Belgrade, Serbia         | Monte Carlo, Monaco      | 77 kg | 16 |  1 |  1 | NA | 275 |  5 |\n",
       "| 38 | Switzerland        | Right-handed | 3 |  6590 | 1 | 2004 | One-handed | $ 129,231,891 2nd all-time leader in earnings | 185 cm | ⋯ | 28 | Basel, Switzerland       | Bottmingen, Switzerland  | 85 kg | 20 |  1 | NA | NA | 310 |  6 |\n",
       "| 23 | Russian Federation | Right-handed | 4 |  5960 | 4 | 2019 | Two-handed | US$ 10,507,693                                | NA     | ⋯ |  2 | NA                       | NA                       | NA    | NA | NA | NA | NA |  NA | NA |\n",
       "| 26 | Austria            | Right-handed | 5 |  5890 | 4 | 2017 | One-handed | $22,132,368 15th all-time leader in earnings  | 185 cm | ⋯ |  1 | Wiener Neustadt, Austria | Lichtenworth, Austria    | 82 kg | NA | NA | NA | NA |  NA | NA |\n",
       "| 21 | Greece             | Right-handed | 6 |  5375 | 5 | 2019 | One-handed | $10,425,605                                   | NA     | ⋯ | NA | NA                       | NA                       | NA    | NA | NA | NA | NA |  NA |  1 |\n",
       "\n"
      ],
      "text/plain": [
       "  age country            plays        current_rank current_rank_2 best_rank\n",
       "1 33  Spain              Left-handed  1            10235          1        \n",
       "2 32  Serbia             Right-handed 2             9720          1        \n",
       "3 38  Switzerland        Right-handed 3             6590          1        \n",
       "4 23  Russian Federation Right-handed 4             5960          4        \n",
       "5 26  Austria            Right-handed 5             5890          4        \n",
       "6 21  Greece             Right-handed 6             5375          5        \n",
       "  best_rank_year backhand   prize_money                                  \n",
       "1 2008           Two-handed US$119,601,561                               \n",
       "2 2011           Two-handed US$ 139,144,944 All-time leader in earnings  \n",
       "3 2004           One-handed $ 129,231,891 2nd all-time leader in earnings\n",
       "4 2019           Two-handed US$ 10,507,693                               \n",
       "5 2017           One-handed $22,132,368 15th all-time leader in earnings \n",
       "6 2019           One-handed $10,425,605                                  \n",
       "  height ⋯ masters birthplace               residence                weight\n",
       "1 185 cm ⋯ 35      Manacor, Mallorca, Spain Manacor, Mallorca, Spain 85 kg \n",
       "2 188 cm ⋯ 34      Belgrade, Serbia         Monte Carlo, Monaco      77 kg \n",
       "3 185 cm ⋯ 28      Basel, Switzerland       Bottmingen, Switzerland  85 kg \n",
       "4 NA     ⋯  2      NA                       NA                       NA    \n",
       "5 185 cm ⋯  1      Wiener Neustadt, Austria Lichtenworth, Austria    82 kg \n",
       "6 NA     ⋯ NA      NA                       NA                       NA    \n",
       "  grand_slams davis_cups team_cups olympics weeks_at_no._1 tour_finals\n",
       "1 19           5         NA         1       208            NA         \n",
       "2 16           1          1        NA       275             5         \n",
       "3 20           1         NA        NA       310             6         \n",
       "4 NA          NA         NA        NA        NA            NA         \n",
       "5 NA          NA         NA        NA        NA            NA         \n",
       "6 NA          NA         NA        NA        NA             1         "
      ]
     },
     "metadata": {},
     "output_type": "display_data"
    }
   ],
   "source": [
    "player_stats <- read_csv(\"player_stats.csv\")\n",
    "\n",
    "names(player_stats) <- gsub(\" \", \"_\", names(player_stats)) %>%\n",
    "                        tolower()\n",
    "\n",
    "tidy_player_stats <- player_stats %>%\n",
    "                        separate(age, sep = \" \", into = c(\"age\", \"birthdate\"), convert = TRUE) %>%\n",
    "                        separate(current_rank, sep = \" \", into = c(\"current_rank\", \"current_rank_2\"), convert = TRUE) %>%\n",
    "                        separate(best_rank, sep = \" \", into = c(\"best_rank\", \"best_rank_date\"), convert = TRUE) %>%\n",
    "                        separate(best_rank_date, sep = \"-\", into = c(\"best_rank_day\", \"best_rank_month\", \"best_rank_year\")) %>%\n",
    "                        mutate(current_rank_2 = parse_number(current_rank_2), best_rank_year = parse_number(best_rank_year)) %>%\n",
    "                        select(-x1, -wikipedia, -name, -facebook, -twitter, -nicknames, -birthdate, -coach, -web_site, -best_rank_day, -best_rank_month) %>%\n",
    "                        arrange(current_rank) %>%\n",
    "                        filter(!is.na(current_rank))\n",
    "\n",
    "head(tidy_player_stats)\n",
    "\n"
   ]
  },
  {
   "cell_type": "markdown",
   "metadata": {},
   "source": [
    "**Step 2: Splitting into training and test data**"
   ]
  },
  {
   "cell_type": "code",
   "execution_count": 42,
   "metadata": {},
   "outputs": [],
   "source": [
    "set.seed(1)\n",
    "\n",
    "stats_split <- initial_split(tidy_player_stats, prop = 0.75, strata = current_rank)\n",
    "stats_training <- training(stats_split)\n",
    "stats_testing <- testing(stats_split)"
   ]
  },
  {
   "cell_type": "code",
   "execution_count": null,
   "metadata": {},
   "outputs": [],
   "source": []
  }
 ],
 "metadata": {
  "kernelspec": {
   "display_name": "R",
   "language": "R",
   "name": "ir"
  },
  "language_info": {
   "codemirror_mode": "r",
   "file_extension": ".r",
   "mimetype": "text/x-r-source",
   "name": "R",
   "pygments_lexer": "r",
   "version": "4.0.0"
  }
 },
 "nbformat": 4,
 "nbformat_minor": 4
}
