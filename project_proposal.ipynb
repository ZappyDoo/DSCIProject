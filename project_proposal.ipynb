{
 "cells": [
  {
   "cell_type": "markdown",
   "metadata": {},
   "source": [
    "# TITLE"
   ]
  },
  {
   "cell_type": "markdown",
   "metadata": {},
   "source": [
    "## Introduction\n",
    "\n",
    "* Provide some relevant background information on the topic so that someone unfamiliar with it will be prepared to understand the rest of your proposal\n",
    "* Clearly state the question you will try to answer with your project\n",
    "* Identify and describe the dataset that will be used to answer the question"
   ]
  },
  {
   "cell_type": "markdown",
   "metadata": {},
   "source": [
    "## Preliminary exploratory data analysis\n",
    "\n",
    "* Demonstrate that the dataset can be read from the web into R \n",
    "* Clean and wrangle your data into a tidy format\n",
    "* Using only **training data**, summarize the data in at least one table (this is exploratory data analysis). An example of a useful table could be one that reports the number of observations in each class, the means of the predictor variables you plan to use in your analysis and how many rows have missing data. \n",
    "* Using only **training data**, visualize the data with at least one plot relevant to the analysis you plan to do (this is exploratory data analysis). An example of a useful visualization could be one that compares the distributions of each of the predictor variables you plan to use in your analysis."
   ]
  },
  {
   "cell_type": "markdown",
   "metadata": {},
   "source": [
    "## Methods\n",
    "\n",
    "* Explain how you will conduct either your data analysis and which variables/columns you will use. *Note - you do not need to use all variables/columns that exist in the raw data set. In fact, that's often not a good idea. For each variable think: is this a useful variable for prediction?*\n",
    "* Describe at least one way that you will visualize the results"
   ]
  },
  {
   "cell_type": "markdown",
   "metadata": {},
   "source": [
    "## Expected outcomes and significance\n",
    "\n",
    "* What do you expect to find?\n",
    "* What impact could such findings have?\n",
    "* What future questions could this lead to?"
   ]
  },
  {
   "cell_type": "code",
   "execution_count": 30,
   "metadata": {},
   "outputs": [
    {
     "name": "stderr",
     "output_type": "stream",
     "text": [
      "Warning message:\n",
      "“Missing column names filled in: 'X1' [1]”\n",
      "Parsed with column specification:\n",
      "cols(\n",
      "  .default = col_character(),\n",
      "  X1 = \u001b[32mcol_double()\u001b[39m,\n",
      "  `Turned Pro` = \u001b[32mcol_double()\u001b[39m,\n",
      "  Seasons = \u001b[32mcol_double()\u001b[39m,\n",
      "  Titles = \u001b[32mcol_double()\u001b[39m,\n",
      "  `Best Season` = \u001b[32mcol_double()\u001b[39m,\n",
      "  Retired = \u001b[32mcol_double()\u001b[39m,\n",
      "  Masters = \u001b[32mcol_double()\u001b[39m,\n",
      "  `Grand Slams` = \u001b[32mcol_double()\u001b[39m,\n",
      "  `Davis Cups` = \u001b[32mcol_double()\u001b[39m,\n",
      "  `Team Cups` = \u001b[32mcol_double()\u001b[39m,\n",
      "  Olympics = \u001b[32mcol_double()\u001b[39m,\n",
      "  `Weeks at No. 1` = \u001b[32mcol_double()\u001b[39m,\n",
      "  `Tour Finals` = \u001b[32mcol_double()\u001b[39m\n",
      ")\n",
      "\n",
      "See spec(...) for full column specifications.\n",
      "\n"
     ]
    },
    {
     "data": {
      "text/html": [
       "<table>\n",
       "<caption>A tibble: 6 × 32</caption>\n",
       "<thead>\n",
       "\t<tr><th scope=col>age</th><th scope=col>country</th><th scope=col>plays</th><th scope=col>current_rank</th><th scope=col>current_rank_2</th><th scope=col>best_rank</th><th scope=col>best_rank_year</th><th scope=col>backhand</th><th scope=col>prize_money</th><th scope=col>height</th><th scope=col>⋯</th><th scope=col>masters</th><th scope=col>birthplace</th><th scope=col>residence</th><th scope=col>weight</th><th scope=col>grand_slams</th><th scope=col>davis_cups</th><th scope=col>team_cups</th><th scope=col>olympics</th><th scope=col>weeks_at_no._1</th><th scope=col>tour_finals</th></tr>\n",
       "\t<tr><th scope=col>&lt;int&gt;</th><th scope=col>&lt;chr&gt;</th><th scope=col>&lt;chr&gt;</th><th scope=col>&lt;int&gt;</th><th scope=col>&lt;dbl&gt;</th><th scope=col>&lt;int&gt;</th><th scope=col>&lt;dbl&gt;</th><th scope=col>&lt;chr&gt;</th><th scope=col>&lt;chr&gt;</th><th scope=col>&lt;chr&gt;</th><th scope=col>⋯</th><th scope=col>&lt;dbl&gt;</th><th scope=col>&lt;chr&gt;</th><th scope=col>&lt;chr&gt;</th><th scope=col>&lt;chr&gt;</th><th scope=col>&lt;dbl&gt;</th><th scope=col>&lt;dbl&gt;</th><th scope=col>&lt;dbl&gt;</th><th scope=col>&lt;dbl&gt;</th><th scope=col>&lt;dbl&gt;</th><th scope=col>&lt;dbl&gt;</th></tr>\n",
       "</thead>\n",
       "<tbody>\n",
       "\t<tr><td>26</td><td>Brazil            </td><td>Right-handed</td><td>378</td><td>  97</td><td>363</td><td>2019</td><td>NA        </td><td>NA          </td><td>NA    </td><td>⋯</td><td>NA</td><td>NA</td><td>NA</td><td>NA</td><td>NA</td><td>NA</td><td>NA</td><td>NA</td><td>NA</td><td>NA</td></tr>\n",
       "\t<tr><td>18</td><td>United Kingdom    </td><td>Left-handed </td><td>326</td><td> 119</td><td>316</td><td>2019</td><td>Two-handed</td><td>$59,040     </td><td>NA    </td><td>⋯</td><td>NA</td><td>NA</td><td>NA</td><td>NA</td><td>NA</td><td>NA</td><td>NA</td><td>NA</td><td>NA</td><td>NA</td></tr>\n",
       "\t<tr><td>32</td><td>Slovakia          </td><td>Right-handed</td><td>178</td><td> 280</td><td> 44</td><td>2013</td><td>Two-handed</td><td>US$3,261,567</td><td>185 cm</td><td>⋯</td><td>NA</td><td>NA</td><td>NA</td><td>NA</td><td>NA</td><td>NA</td><td>NA</td><td>NA</td><td>NA</td><td>NA</td></tr>\n",
       "\t<tr><td>21</td><td>Korea, Republic of</td><td>Right-handed</td><td>236</td><td> 199</td><td>130</td><td>2017</td><td>Two-handed</td><td>$374,093    </td><td>NA    </td><td>⋯</td><td>NA</td><td>NA</td><td>NA</td><td>NA</td><td>NA</td><td>NA</td><td>NA</td><td>NA</td><td>NA</td><td>NA</td></tr>\n",
       "\t<tr><td>27</td><td>Australia         </td><td>Right-handed</td><td>183</td><td> 273</td><td> 17</td><td>2016</td><td>Two-handed</td><td>US$6,091,971</td><td>193 cm</td><td>⋯</td><td>NA</td><td>NA</td><td>NA</td><td>NA</td><td>NA</td><td>NA</td><td>NA</td><td>NA</td><td>NA</td><td>NA</td></tr>\n",
       "\t<tr><td>22</td><td>Poland            </td><td>Right-handed</td><td> 31</td><td>1398</td><td> 31</td><td>2020</td><td>Two-handed</td><td>$1,517,157  </td><td>NA    </td><td>⋯</td><td>NA</td><td>NA</td><td>NA</td><td>NA</td><td>NA</td><td>NA</td><td>NA</td><td>NA</td><td>NA</td><td>NA</td></tr>\n",
       "</tbody>\n",
       "</table>\n"
      ],
      "text/latex": [
       "A tibble: 6 × 32\n",
       "\\begin{tabular}{lllllllllllllllllllll}\n",
       " age & country & plays & current\\_rank & current\\_rank\\_2 & best\\_rank & best\\_rank\\_year & backhand & prize\\_money & height & ⋯ & masters & birthplace & residence & weight & grand\\_slams & davis\\_cups & team\\_cups & olympics & weeks\\_at\\_no.\\_1 & tour\\_finals\\\\\n",
       " <int> & <chr> & <chr> & <int> & <dbl> & <int> & <dbl> & <chr> & <chr> & <chr> & ⋯ & <dbl> & <chr> & <chr> & <chr> & <dbl> & <dbl> & <dbl> & <dbl> & <dbl> & <dbl>\\\\\n",
       "\\hline\n",
       "\t 26 & Brazil             & Right-handed & 378 &   97 & 363 & 2019 & NA         & NA           & NA     & ⋯ & NA & NA & NA & NA & NA & NA & NA & NA & NA & NA\\\\\n",
       "\t 18 & United Kingdom     & Left-handed  & 326 &  119 & 316 & 2019 & Two-handed & \\$59,040      & NA     & ⋯ & NA & NA & NA & NA & NA & NA & NA & NA & NA & NA\\\\\n",
       "\t 32 & Slovakia           & Right-handed & 178 &  280 &  44 & 2013 & Two-handed & US\\$3,261,567 & 185 cm & ⋯ & NA & NA & NA & NA & NA & NA & NA & NA & NA & NA\\\\\n",
       "\t 21 & Korea, Republic of & Right-handed & 236 &  199 & 130 & 2017 & Two-handed & \\$374,093     & NA     & ⋯ & NA & NA & NA & NA & NA & NA & NA & NA & NA & NA\\\\\n",
       "\t 27 & Australia          & Right-handed & 183 &  273 &  17 & 2016 & Two-handed & US\\$6,091,971 & 193 cm & ⋯ & NA & NA & NA & NA & NA & NA & NA & NA & NA & NA\\\\\n",
       "\t 22 & Poland             & Right-handed &  31 & 1398 &  31 & 2020 & Two-handed & \\$1,517,157   & NA     & ⋯ & NA & NA & NA & NA & NA & NA & NA & NA & NA & NA\\\\\n",
       "\\end{tabular}\n"
      ],
      "text/markdown": [
       "\n",
       "A tibble: 6 × 32\n",
       "\n",
       "| age &lt;int&gt; | country &lt;chr&gt; | plays &lt;chr&gt; | current_rank &lt;int&gt; | current_rank_2 &lt;dbl&gt; | best_rank &lt;int&gt; | best_rank_year &lt;dbl&gt; | backhand &lt;chr&gt; | prize_money &lt;chr&gt; | height &lt;chr&gt; | ⋯ ⋯ | masters &lt;dbl&gt; | birthplace &lt;chr&gt; | residence &lt;chr&gt; | weight &lt;chr&gt; | grand_slams &lt;dbl&gt; | davis_cups &lt;dbl&gt; | team_cups &lt;dbl&gt; | olympics &lt;dbl&gt; | weeks_at_no._1 &lt;dbl&gt; | tour_finals &lt;dbl&gt; |\n",
       "|---|---|---|---|---|---|---|---|---|---|---|---|---|---|---|---|---|---|---|---|---|\n",
       "| 26 | Brazil             | Right-handed | 378 |   97 | 363 | 2019 | NA         | NA           | NA     | ⋯ | NA | NA | NA | NA | NA | NA | NA | NA | NA | NA |\n",
       "| 18 | United Kingdom     | Left-handed  | 326 |  119 | 316 | 2019 | Two-handed | $59,040      | NA     | ⋯ | NA | NA | NA | NA | NA | NA | NA | NA | NA | NA |\n",
       "| 32 | Slovakia           | Right-handed | 178 |  280 |  44 | 2013 | Two-handed | US$3,261,567 | 185 cm | ⋯ | NA | NA | NA | NA | NA | NA | NA | NA | NA | NA |\n",
       "| 21 | Korea, Republic of | Right-handed | 236 |  199 | 130 | 2017 | Two-handed | $374,093     | NA     | ⋯ | NA | NA | NA | NA | NA | NA | NA | NA | NA | NA |\n",
       "| 27 | Australia          | Right-handed | 183 |  273 |  17 | 2016 | Two-handed | US$6,091,971 | 193 cm | ⋯ | NA | NA | NA | NA | NA | NA | NA | NA | NA | NA |\n",
       "| 22 | Poland             | Right-handed |  31 | 1398 |  31 | 2020 | Two-handed | $1,517,157   | NA     | ⋯ | NA | NA | NA | NA | NA | NA | NA | NA | NA | NA |\n",
       "\n"
      ],
      "text/plain": [
       "  age country            plays        current_rank current_rank_2 best_rank\n",
       "1 26  Brazil             Right-handed 378            97           363      \n",
       "2 18  United Kingdom     Left-handed  326           119           316      \n",
       "3 32  Slovakia           Right-handed 178           280            44      \n",
       "4 21  Korea, Republic of Right-handed 236           199           130      \n",
       "5 27  Australia          Right-handed 183           273            17      \n",
       "6 22  Poland             Right-handed  31          1398            31      \n",
       "  best_rank_year backhand   prize_money  height ⋯ masters birthplace residence\n",
       "1 2019           NA         NA           NA     ⋯ NA      NA         NA       \n",
       "2 2019           Two-handed $59,040      NA     ⋯ NA      NA         NA       \n",
       "3 2013           Two-handed US$3,261,567 185 cm ⋯ NA      NA         NA       \n",
       "4 2017           Two-handed $374,093     NA     ⋯ NA      NA         NA       \n",
       "5 2016           Two-handed US$6,091,971 193 cm ⋯ NA      NA         NA       \n",
       "6 2020           Two-handed $1,517,157   NA     ⋯ NA      NA         NA       \n",
       "  weight grand_slams davis_cups team_cups olympics weeks_at_no._1 tour_finals\n",
       "1 NA     NA          NA         NA        NA       NA             NA         \n",
       "2 NA     NA          NA         NA        NA       NA             NA         \n",
       "3 NA     NA          NA         NA        NA       NA             NA         \n",
       "4 NA     NA          NA         NA        NA       NA             NA         \n",
       "5 NA     NA          NA         NA        NA       NA             NA         \n",
       "6 NA     NA          NA         NA        NA       NA             NA         "
      ]
     },
     "metadata": {},
     "output_type": "display_data"
    }
   ],
   "source": [
    "library(tidyverse)\n",
    "\n",
    "player_stats <- read_csv(\"player_stats.csv\")\n",
    "\n",
    "names(player_stats) <- gsub(\" \", \"_\", names(player_stats)) %>%\n",
    "                        tolower()\n",
    "\n",
    "tidy_player_stats <- player_stats %>%\n",
    "                        separate(age, sep = \" \", into = c(\"age\", \"birthdate\"), convert = TRUE) %>%\n",
    "                        separate(current_rank, sep = \" \", into = c(\"current_rank\", \"current_rank_2\"), convert = TRUE) %>%\n",
    "                        separate(best_rank, sep = \" \", into = c(\"best_rank\", \"best_rank_date\"), convert = TRUE) %>%\n",
    "                        separate(best_rank_date, sep = \"-\", into = c(\"best_rank_day\", \"best_rank_month\", \"best_rank_year\")) %>%\n",
    "                        mutate(current_rank_2 = parse_number(current_rank_2), best_rank_year = parse_number(best_rank_year)) %>%\n",
    "                        select(-x1, -wikipedia, -name, -facebook, -twitter, -nicknames, -birthdate, -coach, -web_site, -best_rank_day, -best_rank_month)\n",
    "\n",
    "head(tidy_player_stats)"
   ]
  },
  {
   "cell_type": "code",
   "execution_count": null,
   "metadata": {},
   "outputs": [],
   "source": []
  }
 ],
 "metadata": {
  "kernelspec": {
   "display_name": "R",
   "language": "R",
   "name": "ir"
  },
  "language_info": {
   "codemirror_mode": "r",
   "file_extension": ".r",
   "mimetype": "text/x-r-source",
   "name": "R",
   "pygments_lexer": "r",
   "version": "4.0.0"
  }
 },
 "nbformat": 4,
 "nbformat_minor": 4
}
